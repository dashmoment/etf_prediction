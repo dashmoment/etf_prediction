{
 "cells": [
  {
   "cell_type": "code",
   "execution_count": 224,
   "metadata": {},
   "outputs": [],
   "source": [
    "import numpy as np\n",
    "import pandas as pd\n",
    "import pickle\n",
    "import tensorflow as tf\n",
    "import os\n",
    "verbose_state = True"
   ]
  },
  {
   "cell_type": "code",
   "execution_count": 2,
   "metadata": {},
   "outputs": [],
   "source": [
    "def print_c(print_content, verbose = verbose_state):\n",
    "    \n",
    "    if verbose == True:\n",
    "        print(print_content)"
   ]
  },
  {
   "cell_type": "code",
   "execution_count": 3,
   "metadata": {},
   "outputs": [
    {
     "name": "stdout",
     "output_type": "stream",
     "text": [
      "Read pickle data\n",
      "Finish read pickle data\n",
      "Process data\n"
     ]
    }
   ],
   "source": [
    "print_c(\"Read pickle data\")\n",
    "\n",
    "f = open('./Data/all_data.pkl', 'rb')\n",
    "_ = pickle.load(f)\n",
    "_ = pickle.load(f)\n",
    "process_data = pd.DataFrame(pickle.load(f))\n",
    "\n",
    "print_c(\"Finish read pickle data\")\n",
    "print_c(\"Process data\")"
   ]
  },
  {
   "cell_type": "code",
   "execution_count": 124,
   "metadata": {},
   "outputs": [],
   "source": [
    "#select date\n",
    "mask = (process_data.columns >= '20130102') & (process_data.columns < '20140302')\n",
    "select_date = process_data.iloc[:,mask]\n",
    "\n",
    "#drop NA\n",
    "select_date = select_date.dropna()\n",
    "\n",
    "for c in select_date.columns:    \n",
    "    for idx in select_date[c].index:\n",
    "        select_date[c].loc[idx] = select_date[c].loc[idx].drop(['ID', 'Date','name','trade']).tolist()\n",
    "        \n",
    "#make a stck_df to np_array \n",
    "stock_1101 = select_date.loc['1101']\n",
    "stock_1101_np = np.vstack(np.array(stock_1101))\n",
    "\n",
    "'''\n",
    "#make multiple stck_df to np_array        \n",
    "stocks = ['1101','1102']\n",
    "stock_1101_02 = select_date.loc[stocks]\n",
    "stock_1101_02_np = np.hstack(np.array(stock_1101_02))\n",
    "stock_1101_02_np = np.vstack(np.array(stock_1101_02_np))\n",
    "stock_1101_02_np_r = np.split(stock_1101_02_np, len(stocks))\n",
    "stock_1101_02_np_r = np.dstack(stock_1101_02_np_r)\n",
    "'''"
   ]
  },
  {
   "cell_type": "code",
   "execution_count": 125,
   "metadata": {},
   "outputs": [
    {
     "name": "stdout",
     "output_type": "stream",
     "text": [
      "single stock == multiple_stock: True\n"
     ]
    }
   ],
   "source": [
    "#Check process is correct\n",
    "print_c(\"single stock == multiple_stock: {}\".format(np.equal(stock_1101_np, stock_1101_02_np_r[:,:,0]).all()))"
   ]
  },
  {
   "cell_type": "code",
   "execution_count": 126,
   "metadata": {},
   "outputs": [
    {
     "name": "stdout",
     "output_type": "stream",
     "text": [
      "Start build RNN model\n"
     ]
    }
   ],
   "source": [
    "#Prepare for rnn\n",
    "print_c(\"Start build RNN model\")\n",
    "\n",
    "import tensorflow as tf\n",
    "import random"
   ]
  },
  {
   "cell_type": "code",
   "execution_count": 200,
   "metadata": {},
   "outputs": [],
   "source": [
    "#Single stock\n",
    "\n",
    "data = stock_1101_np\n",
    "train_step = 12\n",
    "test_step = 5\n",
    "all_step = train_step + test_step\n",
    "data_size = 50\n",
    "n_inputs = data.shape[-1]\n",
    "n_hidden_units = 10\n",
    "n_output = 3\n",
    "batch_size = 16\n",
    "\n",
    "\n",
    "train_portion = int(0.8*len(data))\n",
    "train, val = np.split(data, [train_portion])\n",
    "\n",
    "def gen_train_val_set(data, total_time_step):\n",
    "\n",
    "    data_set = np.zeros((len(data)-total_time_step, total_time_step, data.shape[-1]))\n",
    "\n",
    "    for i in range(len(data)-total_time_step):\n",
    "\n",
    "        tmp = data[i:i+total_time_step,:]\n",
    "        data_set[i] = tmp\n",
    "        \n",
    "    return data_set\n",
    "\n",
    "total_time_step = train_step + test_step\n",
    "train_set = gen_train_val_set(train, total_time_step)\n",
    "test_set = gen_train_val_set(val, total_time_step)\n",
    "\n",
    "\n"
   ]
  },
  {
   "cell_type": "code",
   "execution_count": 204,
   "metadata": {},
   "outputs": [
    {
     "name": "stdout",
     "output_type": "stream",
     "text": [
      "(207, 17, 4)\n",
      "(40, 17, 4)\n"
     ]
    }
   ],
   "source": [
    "print(np.shape(train_set))\n",
    "print(np.shape(test_set))"
   ]
  },
  {
   "cell_type": "code",
   "execution_count": 147,
   "metadata": {},
   "outputs": [],
   "source": [
    "reuse = True\n",
    "\n",
    "def default_init(seed):\n",
    "    # replica of tf.glorot_uniform_initializer(seed=seed)\n",
    "    return tf.contrib.layers.variance_scaling_initializer(factor=1.0,\n",
    "                                               mode=\"FAN_AVG\",\n",
    "                                               uniform=True,\n",
    "                                               seed=seed)\n",
    "\n",
    "with tf.variable_scope('cell') as scope:\n",
    "    # Define weights  \n",
    "    if reuse: scope.reuse_variables()\n",
    "    weights = {  \n",
    "        # (28, 128)  \n",
    "        'in': tf.get_variable(\"Win\", [data.shape[-1], n_hidden_units], initializer = tf.zeros_initializer()),\n",
    "        # (128, 10)  \n",
    "        'out': tf.get_variable(\"Wout\", [n_hidden_units, n_output], initializer = tf.zeros_initializer())\n",
    "    }  \n",
    "\n",
    "  \n",
    "    biases = {  \n",
    "        # (128, )  \n",
    "        'in': tf.get_variable('b_in', [n_hidden_units, ], initializer = tf.constant_initializer(0.1)),  \n",
    "        # (10, )  \n",
    "        'out': tf.get_variable('b_out', [n_output, ],initializer = tf.constant_initializer(0.1))  \n",
    "    }  \n",
    "    \n",
    "\n",
    "def encoder(X, weights, biases):  \n",
    "    # hidden layer for input to cell  \n",
    "    ########################################  \n",
    "  \n",
    "    # transpose the inputs shape from  \n",
    "    # X ==> (128 batch * 28 steps, 28 inputs)  \n",
    "    X = tf.reshape(X, [-1, n_inputs])  \n",
    "  \n",
    "    # into hidden  \n",
    "    # X_in = (batch * time_steps, n_hidden_units)  \n",
    "    X_in = tf.matmul(X, weights['in']) + biases['in']  \n",
    "    # X_in ==> (batch, 28 time_steps, n_hidden_units)  \n",
    "    X_in = tf.reshape(X_in, [-1, train_step, n_hidden_units]) \n",
    "    \n",
    "    with tf.variable_scope('encoder') as scope:\n",
    "        if reuse: scope.reuse_variables()\n",
    "        cell = tf.contrib.rnn.core_rnn_cell.BasicLSTMCell(n_hidden_units)\n",
    "        init_state = cell.zero_state(batch_size, dtype=tf.float32) \n",
    "        outputs, final_state = tf.nn.dynamic_rnn(cell, X_in, initial_state=init_state, time_major=False,scope='cell')  \n",
    "    \n",
    "    return outputs, final_state\n",
    "\n",
    "def decoder(previous_y, state):\n",
    "    \n",
    "    predict_days = 5\n",
    "    with tf.variable_scope('decoder') as scope:\n",
    "            if reuse: scope.reuse_variables()\n",
    "            cell = tf.contrib.rnn.core_rnn_cell.BasicLSTMCell(n_hidden_units)\n",
    "    \n",
    "    def cond_fn(time, prev_output, prev_state, array_targets: tf.TensorArray, array_outputs: tf.TensorArray):\n",
    "        return time < predict_days\n",
    "    \n",
    "    def project_fn(tensor):\n",
    "        with tf.variable_scope('decoder_output_proj') as scope:\n",
    "            if reuse: scope.reuse_variables()\n",
    "            d_layer = tf.layers.dense(tensor, 1, name='decoder_output_proj', kernel_initializer=default_init(0))\n",
    "        return d_layer\n",
    "\n",
    "    def loop_fn(time, prev_output, prev_state, array_targets: tf.TensorArray, array_outputs: tf.TensorArray):\n",
    "        \n",
    "        next_input = prev_output\n",
    "        \n",
    "        with tf.variable_scope('decoder') as scope:\n",
    "            if reuse: scope.reuse_variables()\n",
    "            output, state = cell(next_input, prev_state)\n",
    "            projected_output = project_fn(output)\n",
    "            #projected_output = output\n",
    "        \n",
    "        array_outputs = array_outputs.write(time, output)\n",
    "        array_targets = array_targets.write(time, projected_output)\n",
    "        \n",
    "        return time + 1, projected_output, state, array_targets, array_outputs\n",
    "    \n",
    "    loop_init = [tf.constant(0, dtype=tf.int32), #time\n",
    "                     project_fn(previous_y), \n",
    "                     state,\n",
    "                     tf.TensorArray(dtype=tf.float32, size=predict_days),\n",
    "                     tf.TensorArray(dtype=tf.float32, size=predict_days) ]\n",
    "        \n",
    "    _, _, _, targets_ta, outputs_ta = tf.while_loop(cond_fn, loop_fn, loop_init)\n",
    "    \n",
    "    targets = targets_ta.stack()\n",
    "    # [time, batch_size, 1] -> [time, batch_size]\n",
    "    targets = tf.squeeze(targets, axis=-1)\n",
    "    raw_outputs = outputs_ta.stack()\n",
    "    \n",
    "    targets = tf.transpose(targets, (1,0))\n",
    "    raw_outputs = tf.transpose(raw_outputs, (1,0,2))\n",
    "\n",
    "\n",
    "    return targets, raw_outputs\n",
    "\n",
    "# tf Graph input  \n",
    "x = tf.placeholder(tf.float32, [None, train_step, data.shape[-1]])  \n",
    "enc, state  = encoder(x, weights, biases)\n",
    "dec, raw_dec = decoder(enc[:,-1], state)"
   ]
  },
  {
   "cell_type": "code",
   "execution_count": 150,
   "metadata": {},
   "outputs": [],
   "source": [
    "y = tf.placeholder(tf.float32, [None, test_step])  \n",
    "loss = tf.losses.mean_squared_error(\n",
    "    y,\n",
    "    dec,\n",
    "    )\n",
    "\n",
    "with tf.variable_scope('optimizer') as scope:\n",
    "    if reuse: scope.reuse_variables()\n",
    "    train_op = tf.train.AdamOptimizer(learning_rate=1e-4).minimize(loss)"
   ]
  },
  {
   "cell_type": "code",
   "execution_count": 226,
   "metadata": {},
   "outputs": [],
   "source": [
    "with tf.name_scope('train_summary'):\n",
    "    tf.summary.scalar('l2loss', loss, collections=['train'])\n",
    "    merged_summary_train = tf.summary.merge_all('train')     \n",
    "    \n",
    "with tf.name_scope('validatin_summary'):\n",
    "    tf.summary.scalar('l2loss', loss, collections=['validatin'])\n",
    "    merged_summary_val = tf.summary.merge_all('validatin') \n",
    "    \n",
    "saver = tf.train.Saver()\n",
    "summary_writer = tf.summary.FileWriter('./data/log', sess.graph)"
   ]
  },
  {
   "cell_type": "code",
   "execution_count": 165,
   "metadata": {},
   "outputs": [
    {
     "name": "stderr",
     "output_type": "stream",
     "text": [
      "<ipython-input-165-0a7802896c6f>:5: SyntaxWarning: assertion is always true, perhaps remove parentheses?\n",
      "  assert(len(data_set) < cur_index+batch_size, \"batch index out of range\")\n"
     ]
    }
   ],
   "source": [
    "def get_batch(data_set, train_step,batch_size, cur_index):\n",
    "    \n",
    "    #data_set: [None, time_step, features ]\n",
    "    #batch_idx: index of batch start point\n",
    "    assert(len(data_set) < cur_index+batch_size, \"batch index out of range\")\n",
    "    batch =  data_set[cur_index:cur_index + batch_size, :, :]\n",
    "    train, label = np.split(batch, [train_step], axis=1)\n",
    "    label = label[:,:,-1]\n",
    "    return train, label"
   ]
  },
  {
   "cell_type": "code",
   "execution_count": 205,
   "metadata": {},
   "outputs": [
    {
     "name": "stdout",
     "output_type": "stream",
     "text": [
      "(50, 12, 4) (50, 5)\n",
      "[[[ 30.41  30.53  30.18  30.45]\n",
      "  [ 30.84  30.84  30.25  30.33]\n",
      "  [ 30.76  30.8   30.14  30.45]\n",
      "  ..., \n",
      "  [ 30.33  30.53  30.02  30.45]\n",
      "  [ 30.29  30.49  30.22  30.41]\n",
      "  [ 30.29  30.57  30.06  30.45]]\n",
      "\n",
      " [[ 30.84  30.84  30.25  30.33]\n",
      "  [ 30.76  30.8   30.14  30.45]\n",
      "  [ 30.53  30.53  30.18  30.37]\n",
      "  ..., \n",
      "  [ 30.29  30.49  30.22  30.41]\n",
      "  [ 30.29  30.57  30.06  30.45]\n",
      "  [ 30.37  30.64  30.18  30.53]]\n",
      "\n",
      " [[ 30.76  30.8   30.14  30.45]\n",
      "  [ 30.53  30.53  30.18  30.37]\n",
      "  [ 30.37  30.53  29.82  30.06]\n",
      "  ..., \n",
      "  [ 30.29  30.57  30.06  30.45]\n",
      "  [ 30.37  30.64  30.18  30.53]\n",
      "  [ 30.53  30.88  30.37  30.64]]\n",
      "\n",
      " ..., \n",
      " [[ 34.74  34.74  33.84  34.12]\n",
      "  [ 33.71  34.08  33.67  33.67]\n",
      "  [ 33.67  33.96  33.26  33.51]\n",
      "  ..., \n",
      "  [ 34.66  35.27  34.53  34.99]\n",
      "  [ 35.32  36.14  35.23  35.85]\n",
      "  [ 35.56  37.45  35.56  35.81]]\n",
      "\n",
      " [[ 33.71  34.08  33.67  33.67]\n",
      "  [ 33.67  33.96  33.26  33.51]\n",
      "  [ 33.51  33.71  33.22  33.71]\n",
      "  ..., \n",
      "  [ 35.32  36.14  35.23  35.85]\n",
      "  [ 35.56  37.45  35.56  35.81]\n",
      "  [ 36.51  37.45  36.3   36.96]]\n",
      "\n",
      " [[ 33.67  33.96  33.26  33.51]\n",
      "  [ 33.51  33.71  33.22  33.71]\n",
      "  [ 33.06  33.71  33.06  33.71]\n",
      "  ..., \n",
      "  [ 35.56  37.45  35.56  35.81]\n",
      "  [ 36.51  37.45  36.3   36.96]\n",
      "  [ 37.53  38.19  37.53  37.78]]]\n"
     ]
    }
   ],
   "source": [
    "batch, label = get_batch(train_set, 12,50, 20)\n",
    "print(np.shape(batch), np.shape(label))\n",
    "print(train_set)"
   ]
  },
  {
   "cell_type": "code",
   "execution_count": 227,
   "metadata": {},
   "outputs": [
    {
     "name": "stderr",
     "output_type": "stream",
     "text": [
      "\n",
      "\n",
      "  0%|          | 0/100 [00:00<?, ?it/s]\u001b[A\u001b[A\n",
      "\u001b[A\n",
      "\n",
      "  0%|          | 0/100 [00:00<?, ?it/s]\u001b[A\u001b[A\n",
      "\u001b[A\n",
      "  1%|          | 1/100 [00:00<00:37,  2.66it/s]\u001b[A\n",
      "  2%|▏         | 2/100 [00:00<00:40,  2.45it/s]\u001b[A\n",
      "  3%|▎         | 3/100 [00:01<00:45,  2.13it/s]\u001b[A\n",
      "  4%|▍         | 4/100 [00:02<00:48,  1.98it/s]\u001b[A\n",
      "  5%|▌         | 5/100 [00:02<00:44,  2.13it/s]\u001b[A\n",
      "  6%|▌         | 6/100 [00:03<00:48,  1.96it/s]\u001b[A\n",
      "  7%|▋         | 7/100 [00:03<00:46,  2.00it/s]\u001b[A\n",
      "  8%|▊         | 8/100 [00:04<00:46,  2.00it/s]\u001b[A\n",
      "  9%|▉         | 9/100 [00:04<00:49,  1.84it/s]\u001b[A\n",
      " 10%|█         | 10/100 [00:04<00:42,  2.12it/s]\u001b[A\n",
      " 11%|█         | 11/100 [00:05<00:44,  1.99it/s]\u001b[A"
     ]
    },
    {
     "name": "stdout",
     "output_type": "stream",
     "text": [
      " [*] Saving checkpoints...step: [11]\n"
     ]
    },
    {
     "name": "stderr",
     "output_type": "stream",
     "text": [
      "\n",
      "train l2loss: 886.5277099609375:  11%|█         | 11/100 [00:06<00:44,  1.99it/s]\u001b[A\n",
      "train l2loss: 886.5277099609375:  12%|█▏        | 12/100 [00:06<01:04,  1.36it/s]\u001b[A\n",
      "train l2loss: 886.5277099609375:  13%|█▎        | 13/100 [00:07<01:00,  1.43it/s]\u001b[A\n",
      "train l2loss: 886.5277099609375:  14%|█▍        | 14/100 [00:07<00:50,  1.71it/s]\u001b[A\n",
      "train l2loss: 886.5277099609375:  15%|█▌        | 15/100 [00:08<00:50,  1.69it/s]\u001b[A\n",
      "train l2loss: 886.5277099609375:  16%|█▌        | 16/100 [00:08<00:49,  1.69it/s]\u001b[A\n",
      "train l2loss: 886.5277099609375:  17%|█▋        | 17/100 [00:09<00:43,  1.90it/s]\u001b[A\n",
      "train l2loss: 886.5277099609375:  18%|█▊        | 18/100 [00:09<00:45,  1.81it/s]\u001b[A\n",
      "train l2loss: 886.5277099609375:  19%|█▉        | 19/100 [00:10<00:42,  1.90it/s]\u001b[A\n",
      "train l2loss: 886.5277099609375:  20%|██        | 20/100 [00:10<00:42,  1.89it/s]\u001b[A\n",
      "val l2loss: 1217.6644287109375:  20%|██        | 20/100 [00:11<00:42,  1.89it/s] \u001b[A\n",
      "val l2loss: 1217.6644287109375:  21%|██        | 21/100 [00:11<00:45,  1.74it/s]\u001b[A\n",
      "val l2loss: 1217.6644287109375:  22%|██▏       | 22/100 [00:11<00:38,  2.00it/s]\u001b[A"
     ]
    },
    {
     "name": "stdout",
     "output_type": "stream",
     "text": [
      " [*] Saving checkpoints...step: [22]\n"
     ]
    },
    {
     "name": "stderr",
     "output_type": "stream",
     "text": [
      "\n",
      "train l2loss: 827.4632568359375:  22%|██▏       | 22/100 [00:13<00:38,  2.00it/s]\u001b[A\n",
      "train l2loss: 827.4632568359375:  23%|██▎       | 23/100 [00:13<00:52,  1.47it/s]\u001b[A\n",
      "train l2loss: 827.4632568359375:  24%|██▍       | 24/100 [00:13<00:46,  1.63it/s]\u001b[A\n",
      "train l2loss: 827.4632568359375:  25%|██▌       | 25/100 [00:14<00:46,  1.62it/s]\u001b[A\n",
      "train l2loss: 827.4632568359375:  26%|██▌       | 26/100 [00:14<00:39,  1.85it/s]\u001b[A\n",
      "train l2loss: 827.4632568359375:  27%|██▋       | 27/100 [00:15<00:40,  1.81it/s]\u001b[A\n",
      "train l2loss: 827.4632568359375:  28%|██▊       | 28/100 [00:15<00:41,  1.74it/s]\u001b[A\n",
      "train l2loss: 827.4632568359375:  29%|██▉       | 29/100 [00:16<00:34,  2.03it/s]\u001b[A\n",
      "train l2loss: 827.4632568359375:  30%|███       | 30/100 [00:16<00:36,  1.93it/s]\u001b[A\n",
      "train l2loss: 827.4632568359375:  31%|███       | 31/100 [00:17<00:37,  1.86it/s]\u001b[A\n",
      "train l2loss: 827.4632568359375:  32%|███▏      | 32/100 [00:17<00:31,  2.15it/s]\u001b[A\n",
      "train l2loss: 827.4632568359375:  33%|███▎      | 33/100 [00:18<00:33,  2.01it/s]\u001b[A"
     ]
    },
    {
     "name": "stdout",
     "output_type": "stream",
     "text": [
      " [*] Saving checkpoints...step: [33]\n"
     ]
    },
    {
     "name": "stderr",
     "output_type": "stream",
     "text": [
      "\n",
      "train l2loss: 862.3818359375:  33%|███▎      | 33/100 [00:19<00:33,  2.01it/s]   \u001b[A\n",
      "train l2loss: 862.3818359375:  34%|███▍      | 34/100 [00:19<00:43,  1.52it/s]\u001b[A\n",
      "train l2loss: 862.3818359375:  35%|███▌      | 35/100 [00:19<00:41,  1.56it/s]\u001b[A\n",
      "train l2loss: 862.3818359375:  36%|███▌      | 36/100 [00:19<00:34,  1.84it/s]\u001b[A\n",
      "train l2loss: 862.3818359375:  37%|███▋      | 37/100 [00:20<00:35,  1.78it/s]\u001b[A\n",
      "train l2loss: 862.3818359375:  38%|███▊      | 38/100 [00:21<00:36,  1.72it/s]\u001b[A\n",
      "train l2loss: 862.3818359375:  39%|███▉      | 39/100 [00:21<00:30,  2.00it/s]\u001b[A\n",
      "train l2loss: 862.3818359375:  40%|████      | 40/100 [00:22<00:31,  1.89it/s]\u001b[A\n",
      "val l2loss: 1125.053466796875:  40%|████      | 40/100 [00:22<00:31,  1.89it/s]\u001b[A\n",
      "val l2loss: 1125.053466796875:  41%|████      | 41/100 [00:22<00:31,  1.86it/s]\u001b[A\n",
      "val l2loss: 1125.053466796875:  42%|████▏     | 42/100 [00:23<00:30,  1.92it/s]\u001b[A\n",
      "val l2loss: 1125.053466796875:  43%|████▎     | 43/100 [00:23<00:31,  1.81it/s]\u001b[A\n",
      "val l2loss: 1125.053466796875:  44%|████▍     | 44/100 [00:24<00:26,  2.09it/s]\u001b[A"
     ]
    },
    {
     "name": "stdout",
     "output_type": "stream",
     "text": [
      " [*] Saving checkpoints...step: [44]\n"
     ]
    },
    {
     "name": "stderr",
     "output_type": "stream",
     "text": [
      "\n",
      "train l2loss: 767.1021118164062:  44%|████▍     | 44/100 [00:25<00:26,  2.09it/s]\u001b[A\n",
      "train l2loss: 767.1021118164062:  45%|████▌     | 45/100 [00:25<00:36,  1.52it/s]\u001b[A\n",
      "train l2loss: 767.1021118164062:  46%|████▌     | 46/100 [00:25<00:30,  1.77it/s]\u001b[A\n",
      "train l2loss: 767.1021118164062:  47%|████▋     | 47/100 [00:26<00:30,  1.76it/s]\u001b[A\n",
      "train l2loss: 767.1021118164062:  48%|████▊     | 48/100 [00:26<00:29,  1.75it/s]\u001b[A\n",
      "train l2loss: 767.1021118164062:  49%|████▉     | 49/100 [00:27<00:25,  2.00it/s]\u001b[A\n",
      "train l2loss: 767.1021118164062:  50%|█████     | 50/100 [00:27<00:26,  1.89it/s]\u001b[A\n",
      "train l2loss: 767.1021118164062:  51%|█████     | 51/100 [00:28<00:25,  1.91it/s]\u001b[A\n",
      "train l2loss: 767.1021118164062:  52%|█████▏    | 52/100 [00:28<00:25,  1.90it/s]\u001b[A\n",
      "train l2loss: 767.1021118164062:  53%|█████▎    | 53/100 [00:29<00:25,  1.84it/s]\u001b[A\n",
      "train l2loss: 767.1021118164062:  54%|█████▍    | 54/100 [00:29<00:22,  2.08it/s]\u001b[A\n",
      "train l2loss: 767.1021118164062:  55%|█████▌    | 55/100 [00:30<00:23,  1.88it/s]\u001b[A"
     ]
    },
    {
     "name": "stdout",
     "output_type": "stream",
     "text": [
      " [*] Saving checkpoints...step: [55]\n"
     ]
    },
    {
     "name": "stderr",
     "output_type": "stream",
     "text": [
      "\n",
      "train l2loss: 804.4862060546875:  55%|█████▌    | 55/100 [00:31<00:23,  1.88it/s]\u001b[A\n",
      "train l2loss: 804.4862060546875:  56%|█████▌    | 56/100 [00:31<00:31,  1.38it/s]\u001b[A\n",
      "train l2loss: 804.4862060546875:  57%|█████▋    | 57/100 [00:32<00:29,  1.45it/s]\u001b[A\n",
      "train l2loss: 804.4862060546875:  58%|█████▊    | 58/100 [00:32<00:25,  1.64it/s]\u001b[A\n",
      "train l2loss: 804.4862060546875:  59%|█████▉    | 59/100 [00:33<00:24,  1.64it/s]\u001b[A\n",
      "train l2loss: 804.4862060546875:  60%|██████    | 60/100 [00:33<00:22,  1.75it/s]\u001b[A\n",
      "val l2loss: 1077.3382568359375:  60%|██████    | 60/100 [00:33<00:22,  1.75it/s] \u001b[A\n",
      "val l2loss: 1077.3382568359375:  61%|██████    | 61/100 [00:33<00:20,  1.93it/s]\u001b[A\n",
      "val l2loss: 1077.3382568359375:  62%|██████▏   | 62/100 [00:34<00:20,  1.82it/s]\u001b[A\n",
      "val l2loss: 1077.3382568359375:  63%|██████▎   | 63/100 [00:34<00:18,  1.98it/s]\u001b[A\n",
      "val l2loss: 1077.3382568359375:  64%|██████▍   | 64/100 [00:35<00:19,  1.88it/s]\u001b[A\n",
      "val l2loss: 1077.3382568359375:  65%|██████▌   | 65/100 [00:36<00:19,  1.79it/s]\u001b[A\n",
      "val l2loss: 1077.3382568359375:  66%|██████▌   | 66/100 [00:36<00:16,  2.02it/s]\u001b[A"
     ]
    },
    {
     "name": "stdout",
     "output_type": "stream",
     "text": [
      " [*] Saving checkpoints...step: [66]\n"
     ]
    },
    {
     "name": "stderr",
     "output_type": "stream",
     "text": [
      "\n",
      "train l2loss: 745.4552001953125:  66%|██████▌   | 66/100 [00:37<00:16,  2.02it/s]\u001b[A\n",
      "train l2loss: 745.4552001953125:  67%|██████▋   | 67/100 [00:37<00:22,  1.44it/s]\u001b[A\n",
      "train l2loss: 745.4552001953125:  68%|██████▊   | 68/100 [00:38<00:21,  1.46it/s]\u001b[A\n",
      "train l2loss: 745.4552001953125:  69%|██████▉   | 69/100 [00:38<00:20,  1.52it/s]\u001b[A\n",
      "train l2loss: 745.4552001953125:  70%|███████   | 70/100 [00:39<00:17,  1.72it/s]\u001b[A\n",
      "train l2loss: 745.4552001953125:  71%|███████   | 71/100 [00:39<00:17,  1.67it/s]\u001b[A\n",
      "train l2loss: 745.4552001953125:  72%|███████▏  | 72/100 [00:40<00:15,  1.86it/s]\u001b[A\n",
      "train l2loss: 745.4552001953125:  73%|███████▎  | 73/100 [00:40<00:14,  1.87it/s]\u001b[A\n",
      "train l2loss: 745.4552001953125:  74%|███████▍  | 74/100 [00:41<00:14,  1.80it/s]\u001b[A\n",
      "train l2loss: 745.4552001953125:  75%|███████▌  | 75/100 [00:41<00:12,  1.99it/s]\u001b[A\n",
      "train l2loss: 745.4552001953125:  76%|███████▌  | 76/100 [00:42<00:13,  1.84it/s]\u001b[A\n",
      "train l2loss: 745.4552001953125:  77%|███████▋  | 77/100 [00:43<00:12,  1.85it/s]\u001b[A"
     ]
    },
    {
     "name": "stdout",
     "output_type": "stream",
     "text": [
      " [*] Saving checkpoints...step: [77]\n"
     ]
    },
    {
     "name": "stderr",
     "output_type": "stream",
     "text": [
      "\n",
      "train l2loss: 702.4982299804688:  77%|███████▋  | 77/100 [00:44<00:12,  1.85it/s]\u001b[A\n",
      "train l2loss: 702.4982299804688:  78%|███████▊  | 78/100 [00:44<00:15,  1.46it/s]\u001b[A\n",
      "train l2loss: 702.4982299804688:  79%|███████▉  | 79/100 [00:44<00:12,  1.72it/s]\u001b[A\n",
      "train l2loss: 702.4982299804688:  80%|████████  | 80/100 [00:44<00:11,  1.73it/s]\u001b[A\n",
      "val l2loss: 1036.9993896484375:  80%|████████  | 80/100 [00:45<00:11,  1.73it/s] \u001b[A\n",
      "val l2loss: 1036.9993896484375:  81%|████████  | 81/100 [00:45<00:11,  1.67it/s]\u001b[A\n",
      "val l2loss: 1036.9993896484375:  82%|████████▏ | 82/100 [00:46<00:09,  1.88it/s]\u001b[A\n",
      "val l2loss: 1036.9993896484375:  83%|████████▎ | 83/100 [00:46<00:09,  1.81it/s]\u001b[A\n",
      "val l2loss: 1036.9993896484375:  84%|████████▍ | 84/100 [00:47<00:08,  1.87it/s]\u001b[A\n",
      "val l2loss: 1036.9993896484375:  85%|████████▌ | 85/100 [00:47<00:07,  1.96it/s]\u001b[A\n",
      "val l2loss: 1036.9993896484375:  86%|████████▌ | 86/100 [00:48<00:07,  1.84it/s]\u001b[A\n",
      "val l2loss: 1036.9993896484375:  87%|████████▋ | 87/100 [00:48<00:06,  2.02it/s]\u001b[A\n",
      "val l2loss: 1036.9993896484375:  88%|████████▊ | 88/100 [00:49<00:06,  1.86it/s]\u001b[A"
     ]
    },
    {
     "name": "stdout",
     "output_type": "stream",
     "text": [
      " [*] Saving checkpoints...step: [88]\n"
     ]
    },
    {
     "name": "stderr",
     "output_type": "stream",
     "text": [
      "\n",
      "train l2loss: 686.0328369140625:  88%|████████▊ | 88/100 [00:50<00:06,  1.86it/s]\u001b[A\n",
      "train l2loss: 686.0328369140625:  89%|████████▉ | 89/100 [00:50<00:08,  1.34it/s]\u001b[A\n",
      "train l2loss: 686.0328369140625:  90%|█████████ | 90/100 [00:51<00:07,  1.42it/s]\u001b[A\n",
      "train l2loss: 686.0328369140625:  91%|█████████ | 91/100 [00:51<00:05,  1.74it/s]\u001b[A\n",
      "train l2loss: 686.0328369140625:  92%|█████████▏| 92/100 [00:51<00:04,  1.70it/s]\u001b[A\n",
      "train l2loss: 686.0328369140625:  93%|█████████▎| 93/100 [00:52<00:04,  1.69it/s]\u001b[A\n",
      "train l2loss: 686.0328369140625:  94%|█████████▍| 94/100 [00:52<00:03,  1.87it/s]\u001b[A\n",
      "train l2loss: 686.0328369140625:  95%|█████████▌| 95/100 [00:53<00:02,  1.82it/s]\u001b[A\n",
      "train l2loss: 686.0328369140625:  96%|█████████▌| 96/100 [00:53<00:02,  1.93it/s]\u001b[A\n",
      "train l2loss: 686.0328369140625:  97%|█████████▋| 97/100 [00:54<00:01,  1.92it/s]\u001b[A\n",
      "train l2loss: 686.0328369140625:  98%|█████████▊| 98/100 [00:55<00:01,  1.84it/s]\u001b[A\n",
      "train l2loss: 686.0328369140625:  99%|█████████▉| 99/100 [00:55<00:00,  2.09it/s]\u001b[A"
     ]
    },
    {
     "name": "stdout",
     "output_type": "stream",
     "text": [
      " [*] Saving checkpoints...step: [99]\n"
     ]
    },
    {
     "name": "stderr",
     "output_type": "stream",
     "text": [
      "\n",
      "train l2loss: 623.392578125:  99%|█████████▉| 99/100 [00:56<00:00,  2.09it/s]    \u001b[A\n",
      "train l2loss: 623.392578125: 100%|██████████| 100/100 [00:56<00:00,  1.46it/s]\u001b[A\n",
      "val l2loss: 1002.7181396484375: 100%|██████████| 100/100 [00:56<00:00,  1.46it/s]\u001b[A"
     ]
    }
   ],
   "source": [
    "def save_ckpt(saver:tf.train.Saver(), sess, checkpoint_dir, ckpt_name, step):\n",
    "    \n",
    "    print(\" [*] Saving checkpoints...step: [{}]\".format(step))\n",
    "    if not os.path.exists(checkpoint_dir):\n",
    "            os.makedirs(checkpoint_dir)\n",
    "\n",
    "    saver.save(sess, \n",
    "               os.path.join(checkpoint_dir, ckpt_name),\n",
    "               global_step=step)\n",
    "    \n",
    "from tqdm import tqdm\n",
    "checkpoint_dir = './model/forfun'\n",
    "ckpt_name = 'toy'\n",
    "\n",
    "pbar = tqdm(total=100)\n",
    "init = tf.global_variables_initializer()  \n",
    "epoch = 0\n",
    "Nepoch = 100\n",
    "pbar = tqdm(total=Nepoch)\n",
    "\n",
    "with tf.Session() as sess:  \n",
    "    \n",
    "    sess.run(init)\n",
    "    \n",
    "    while epoch < Nepoch:\n",
    "        \n",
    "        epoch += 1\n",
    "        pbar.update(1)\n",
    "        \n",
    "        np.random.shuffle(train_set)\n",
    "        Nbatch = len(train_set)//batch_size\n",
    "        \n",
    "        for i in range(Nbatch):         \n",
    "            batch_index = i*batch_size\n",
    "            train_data, label = get_batch(train_set, train_step, batch_size, batch_index)\n",
    "            _ =  sess.run(train_op, feed_dict={x:train_data, y:label})\n",
    "       \n",
    "        if epoch%11 == 0:\n",
    "            l2loss, train_sum =  sess.run([loss, merged_summary_train], feed_dict={x:train_data, y:label})\n",
    "            #Save tensorboard\n",
    "            summary_writer.add_summary(train_sum, epoch)\n",
    "            #Save ckpt\n",
    "            save_ckpt(saver, sess, checkpoint_dir, ckpt_name, epoch)\n",
    "            pbar.set_description('train l2loss: {}'.format(l2loss))       \n",
    "            \n",
    "            \n",
    "            \n",
    "        if epoch%20 == 0:\n",
    "            val_data, val_label = get_batch(test_set, train_step, batch_size, 0)\n",
    "            l2loss, val_sum =  sess.run([loss, merged_summary_val], feed_dict={x:val_data, y:val_label})\n",
    "            #Save tensorboard\n",
    "            summary_writer.add_summary(val_sum, epoch)\n",
    "            pbar.set_description('val l2loss: {}'.format(l2loss))\n",
    "    \n",
    "    \n",
    "    out, state= sess.run([dec, raw_dec], feed_dict={x:val_data})\n",
    "    '''\n",
    "    for i in range(50):\n",
    "        l2loss,_ =  sess.run([loss, train_op], feed_dict={x:train, y:test})\n",
    "        print('l2loss: {}'.format(l2loss))\n",
    "    \n",
    "    print_c('============================')\n",
    "    print_c('{},{}'.format(np.shape(out), np.shape(state)))\n",
    "   '''"
   ]
  },
  {
   "cell_type": "code",
   "execution_count": 217,
   "metadata": {},
   "outputs": [
    {
     "name": "stdout",
     "output_type": "stream",
     "text": [
      "(16, 5) (16, 5)\n"
     ]
    }
   ],
   "source": [
    "print(np.shape(out), np.shape(val_label))"
   ]
  },
  {
   "cell_type": "code",
   "execution_count": 218,
   "metadata": {},
   "outputs": [
    {
     "data": {
      "image/png": "[encoded data removed]",
      "text/plain": [
       "<matplotlib.figure.Figure at 0x7f43c8f0a828>"
      ]
     },
     "metadata": {},
     "output_type": "display_data"
    },
    {
     "data": {
      "image/png": "[encoded data removed]",
      "text/plain": [
       "<matplotlib.figure.Figure at 0x7f43c91aac50>"
      ]
     },
     "metadata": {},
     "output_type": "display_data"
    }
   ],
   "source": [
    "import matplotlib.pyplot as plt\n",
    "\n",
    "plt.figure()\n",
    "plt.plot(out[0,:])\n",
    "plt.show()\n",
    "\n",
    "\n",
    "plt.figure()\n",
    "plt.plot(val_label[0,:])\n",
    "plt.show()\n",
    "\n"
   ]
  }
 ],
 "metadata": {
  "kernelspec": {
   "display_name": "Python 3",
   "language": "python",
   "name": "python3"
  },
  "language_info": {
   "codemirror_mode": {
    "name": "ipython",
    "version": 3
   },
   "file_extension": ".py",
   "mimetype": "text/x-python",
   "name": "python",
   "nbconvert_exporter": "python",
   "pygments_lexer": "ipython3",
   "version": "3.6.2"
  }
 },
 "nbformat": 4,
 "nbformat_minor": 2
}
